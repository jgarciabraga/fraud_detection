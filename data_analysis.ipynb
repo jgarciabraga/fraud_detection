{
 "cells": [
  {
   "cell_type": "code",
   "execution_count": 20,
   "metadata": {},
   "outputs": [],
   "source": [
    "import pandas as pd\n",
    "from sklearn.model_selection import train_test_split\n",
    "from sklearn.linear_model import LogisticRegression\n",
    "from sklearn.metrics import accuracy_score, f1_score, recall_score, precision_score\n",
    "from yellowbrick.classifier import ConfusionMatrix\n",
    "from sklearn.neural_network import MLPClassifier\n",
    "import pickle\n"
   ]
  },
  {
   "cell_type": "code",
   "execution_count": 21,
   "metadata": {},
   "outputs": [],
   "source": [
    "model_path = 'model.sav'\n",
    "df = pd.read_csv(\"creditcard.csv\")"
   ]
  },
  {
   "cell_type": "code",
   "execution_count": 4,
   "metadata": {},
   "outputs": [
    {
     "data": {
      "text/html": [
       "<div>\n",
       "<style scoped>\n",
       "    .dataframe tbody tr th:only-of-type {\n",
       "        vertical-align: middle;\n",
       "    }\n",
       "\n",
       "    .dataframe tbody tr th {\n",
       "        vertical-align: top;\n",
       "    }\n",
       "\n",
       "    .dataframe thead th {\n",
       "        text-align: right;\n",
       "    }\n",
       "</style>\n",
       "<table border=\"1\" class=\"dataframe\">\n",
       "  <thead>\n",
       "    <tr style=\"text-align: right;\">\n",
       "      <th></th>\n",
       "      <th>Time</th>\n",
       "      <th>V1</th>\n",
       "      <th>V2</th>\n",
       "      <th>V3</th>\n",
       "      <th>V4</th>\n",
       "      <th>V5</th>\n",
       "      <th>V6</th>\n",
       "      <th>V7</th>\n",
       "      <th>V8</th>\n",
       "      <th>V9</th>\n",
       "      <th>...</th>\n",
       "      <th>V21</th>\n",
       "      <th>V22</th>\n",
       "      <th>V23</th>\n",
       "      <th>V24</th>\n",
       "      <th>V25</th>\n",
       "      <th>V26</th>\n",
       "      <th>V27</th>\n",
       "      <th>V28</th>\n",
       "      <th>Amount</th>\n",
       "      <th>Class</th>\n",
       "    </tr>\n",
       "  </thead>\n",
       "  <tbody>\n",
       "    <tr>\n",
       "      <th>0</th>\n",
       "      <td>0.0</td>\n",
       "      <td>-1.359807</td>\n",
       "      <td>-0.072781</td>\n",
       "      <td>2.536347</td>\n",
       "      <td>1.378155</td>\n",
       "      <td>-0.338321</td>\n",
       "      <td>0.462388</td>\n",
       "      <td>0.239599</td>\n",
       "      <td>0.098698</td>\n",
       "      <td>0.363787</td>\n",
       "      <td>...</td>\n",
       "      <td>-0.018307</td>\n",
       "      <td>0.277838</td>\n",
       "      <td>-0.110474</td>\n",
       "      <td>0.066928</td>\n",
       "      <td>0.128539</td>\n",
       "      <td>-0.189115</td>\n",
       "      <td>0.133558</td>\n",
       "      <td>-0.021053</td>\n",
       "      <td>149.62</td>\n",
       "      <td>0</td>\n",
       "    </tr>\n",
       "    <tr>\n",
       "      <th>1</th>\n",
       "      <td>0.0</td>\n",
       "      <td>1.191857</td>\n",
       "      <td>0.266151</td>\n",
       "      <td>0.166480</td>\n",
       "      <td>0.448154</td>\n",
       "      <td>0.060018</td>\n",
       "      <td>-0.082361</td>\n",
       "      <td>-0.078803</td>\n",
       "      <td>0.085102</td>\n",
       "      <td>-0.255425</td>\n",
       "      <td>...</td>\n",
       "      <td>-0.225775</td>\n",
       "      <td>-0.638672</td>\n",
       "      <td>0.101288</td>\n",
       "      <td>-0.339846</td>\n",
       "      <td>0.167170</td>\n",
       "      <td>0.125895</td>\n",
       "      <td>-0.008983</td>\n",
       "      <td>0.014724</td>\n",
       "      <td>2.69</td>\n",
       "      <td>0</td>\n",
       "    </tr>\n",
       "    <tr>\n",
       "      <th>2</th>\n",
       "      <td>1.0</td>\n",
       "      <td>-1.358354</td>\n",
       "      <td>-1.340163</td>\n",
       "      <td>1.773209</td>\n",
       "      <td>0.379780</td>\n",
       "      <td>-0.503198</td>\n",
       "      <td>1.800499</td>\n",
       "      <td>0.791461</td>\n",
       "      <td>0.247676</td>\n",
       "      <td>-1.514654</td>\n",
       "      <td>...</td>\n",
       "      <td>0.247998</td>\n",
       "      <td>0.771679</td>\n",
       "      <td>0.909412</td>\n",
       "      <td>-0.689281</td>\n",
       "      <td>-0.327642</td>\n",
       "      <td>-0.139097</td>\n",
       "      <td>-0.055353</td>\n",
       "      <td>-0.059752</td>\n",
       "      <td>378.66</td>\n",
       "      <td>0</td>\n",
       "    </tr>\n",
       "    <tr>\n",
       "      <th>3</th>\n",
       "      <td>1.0</td>\n",
       "      <td>-0.966272</td>\n",
       "      <td>-0.185226</td>\n",
       "      <td>1.792993</td>\n",
       "      <td>-0.863291</td>\n",
       "      <td>-0.010309</td>\n",
       "      <td>1.247203</td>\n",
       "      <td>0.237609</td>\n",
       "      <td>0.377436</td>\n",
       "      <td>-1.387024</td>\n",
       "      <td>...</td>\n",
       "      <td>-0.108300</td>\n",
       "      <td>0.005274</td>\n",
       "      <td>-0.190321</td>\n",
       "      <td>-1.175575</td>\n",
       "      <td>0.647376</td>\n",
       "      <td>-0.221929</td>\n",
       "      <td>0.062723</td>\n",
       "      <td>0.061458</td>\n",
       "      <td>123.50</td>\n",
       "      <td>0</td>\n",
       "    </tr>\n",
       "    <tr>\n",
       "      <th>4</th>\n",
       "      <td>2.0</td>\n",
       "      <td>-1.158233</td>\n",
       "      <td>0.877737</td>\n",
       "      <td>1.548718</td>\n",
       "      <td>0.403034</td>\n",
       "      <td>-0.407193</td>\n",
       "      <td>0.095921</td>\n",
       "      <td>0.592941</td>\n",
       "      <td>-0.270533</td>\n",
       "      <td>0.817739</td>\n",
       "      <td>...</td>\n",
       "      <td>-0.009431</td>\n",
       "      <td>0.798278</td>\n",
       "      <td>-0.137458</td>\n",
       "      <td>0.141267</td>\n",
       "      <td>-0.206010</td>\n",
       "      <td>0.502292</td>\n",
       "      <td>0.219422</td>\n",
       "      <td>0.215153</td>\n",
       "      <td>69.99</td>\n",
       "      <td>0</td>\n",
       "    </tr>\n",
       "    <tr>\n",
       "      <th>5</th>\n",
       "      <td>2.0</td>\n",
       "      <td>-0.425966</td>\n",
       "      <td>0.960523</td>\n",
       "      <td>1.141109</td>\n",
       "      <td>-0.168252</td>\n",
       "      <td>0.420987</td>\n",
       "      <td>-0.029728</td>\n",
       "      <td>0.476201</td>\n",
       "      <td>0.260314</td>\n",
       "      <td>-0.568671</td>\n",
       "      <td>...</td>\n",
       "      <td>-0.208254</td>\n",
       "      <td>-0.559825</td>\n",
       "      <td>-0.026398</td>\n",
       "      <td>-0.371427</td>\n",
       "      <td>-0.232794</td>\n",
       "      <td>0.105915</td>\n",
       "      <td>0.253844</td>\n",
       "      <td>0.081080</td>\n",
       "      <td>3.67</td>\n",
       "      <td>0</td>\n",
       "    </tr>\n",
       "  </tbody>\n",
       "</table>\n",
       "<p>6 rows × 31 columns</p>\n",
       "</div>"
      ],
      "text/plain": [
       "   Time        V1        V2        V3        V4        V5        V6        V7  \\\n",
       "0   0.0 -1.359807 -0.072781  2.536347  1.378155 -0.338321  0.462388  0.239599   \n",
       "1   0.0  1.191857  0.266151  0.166480  0.448154  0.060018 -0.082361 -0.078803   \n",
       "2   1.0 -1.358354 -1.340163  1.773209  0.379780 -0.503198  1.800499  0.791461   \n",
       "3   1.0 -0.966272 -0.185226  1.792993 -0.863291 -0.010309  1.247203  0.237609   \n",
       "4   2.0 -1.158233  0.877737  1.548718  0.403034 -0.407193  0.095921  0.592941   \n",
       "5   2.0 -0.425966  0.960523  1.141109 -0.168252  0.420987 -0.029728  0.476201   \n",
       "\n",
       "         V8        V9  ...       V21       V22       V23       V24       V25  \\\n",
       "0  0.098698  0.363787  ... -0.018307  0.277838 -0.110474  0.066928  0.128539   \n",
       "1  0.085102 -0.255425  ... -0.225775 -0.638672  0.101288 -0.339846  0.167170   \n",
       "2  0.247676 -1.514654  ...  0.247998  0.771679  0.909412 -0.689281 -0.327642   \n",
       "3  0.377436 -1.387024  ... -0.108300  0.005274 -0.190321 -1.175575  0.647376   \n",
       "4 -0.270533  0.817739  ... -0.009431  0.798278 -0.137458  0.141267 -0.206010   \n",
       "5  0.260314 -0.568671  ... -0.208254 -0.559825 -0.026398 -0.371427 -0.232794   \n",
       "\n",
       "        V26       V27       V28  Amount  Class  \n",
       "0 -0.189115  0.133558 -0.021053  149.62      0  \n",
       "1  0.125895 -0.008983  0.014724    2.69      0  \n",
       "2 -0.139097 -0.055353 -0.059752  378.66      0  \n",
       "3 -0.221929  0.062723  0.061458  123.50      0  \n",
       "4  0.502292  0.219422  0.215153   69.99      0  \n",
       "5  0.105915  0.253844  0.081080    3.67      0  \n",
       "\n",
       "[6 rows x 31 columns]"
      ]
     },
     "execution_count": 4,
     "metadata": {},
     "output_type": "execute_result"
    }
   ],
   "source": [
    "#first 6 rows from data frame\n",
    "#the inout values are the V columns\n",
    "#the variable of interest is Class column - (0 non fraud - 1 fraud)\n",
    "#data set from kagle (https://www.kaggle.com/mlg-ulb/creditcardfraud/data#) \n",
    "df.head(6)"
   ]
  },
  {
   "cell_type": "code",
   "execution_count": 5,
   "metadata": {},
   "outputs": [
    {
     "data": {
      "text/plain": [
       "Time      float64\n",
       "V1        float64\n",
       "V2        float64\n",
       "V3        float64\n",
       "V4        float64\n",
       "V5        float64\n",
       "V6        float64\n",
       "V7        float64\n",
       "V8        float64\n",
       "V9        float64\n",
       "V10       float64\n",
       "V11       float64\n",
       "V12       float64\n",
       "V13       float64\n",
       "V14       float64\n",
       "V15       float64\n",
       "V16       float64\n",
       "V17       float64\n",
       "V18       float64\n",
       "V19       float64\n",
       "V20       float64\n",
       "V21       float64\n",
       "V22       float64\n",
       "V23       float64\n",
       "V24       float64\n",
       "V25       float64\n",
       "V26       float64\n",
       "V27       float64\n",
       "V28       float64\n",
       "Amount    float64\n",
       "Class       int64\n",
       "dtype: object"
      ]
     },
     "execution_count": 5,
     "metadata": {},
     "output_type": "execute_result"
    }
   ],
   "source": [
    "df.dtypes"
   ]
  },
  {
   "cell_type": "code",
   "execution_count": 6,
   "metadata": {},
   "outputs": [],
   "source": [
    "input_columns = df.iloc[:,1:30].columns\n",
    "outout_columns = df.iloc[:, 30:].columns"
   ]
  },
  {
   "cell_type": "code",
   "execution_count": 7,
   "metadata": {},
   "outputs": [
    {
     "name": "stdout",
     "output_type": "stream",
     "text": [
      "Index(['V1', 'V2', 'V3', 'V4', 'V5', 'V6', 'V7', 'V8', 'V9', 'V10', 'V11',\n",
      "       'V12', 'V13', 'V14', 'V15', 'V16', 'V17', 'V18', 'V19', 'V20', 'V21',\n",
      "       'V22', 'V23', 'V24', 'V25', 'V26', 'V27', 'V28', 'Amount'],\n",
      "      dtype='object')\n"
     ]
    }
   ],
   "source": [
    "print(input_columns)"
   ]
  },
  {
   "cell_type": "code",
   "execution_count": 8,
   "metadata": {},
   "outputs": [
    {
     "name": "stdout",
     "output_type": "stream",
     "text": [
      "Index(['Class'], dtype='object')\n"
     ]
    }
   ],
   "source": [
    "print(outout_columns)"
   ]
  },
  {
   "cell_type": "code",
   "execution_count": 9,
   "metadata": {},
   "outputs": [],
   "source": [
    "#getting the input (x data) and the output (y data) data\n",
    "input_data = df[input_columns]\n",
    "output_data = df[outout_columns]"
   ]
  },
  {
   "cell_type": "code",
   "execution_count": 10,
   "metadata": {},
   "outputs": [],
   "source": [
    "train_input, test_input, train_output, test_output = train_test_split(input_data, output_data, train_size=0.8, test_size=0.2, random_state=1)\n",
    "train_input = (train_input-train_input.mean())/train_input.std()\n",
    "test_input = (test_input-test_input.mean())/test_input.std()\n",
    "train_input = train_input.values\n",
    "train_output = train_output.values.flatten()\n",
    "test_input = test_input.values\n",
    "test_output = test_output.values.flatten()"
   ]
  },
  {
   "cell_type": "code",
   "execution_count": 11,
   "metadata": {},
   "outputs": [
    {
     "data": {
      "text/html": [
       "<style>#sk-container-id-1 {color: black;background-color: white;}#sk-container-id-1 pre{padding: 0;}#sk-container-id-1 div.sk-toggleable {background-color: white;}#sk-container-id-1 label.sk-toggleable__label {cursor: pointer;display: block;width: 100%;margin-bottom: 0;padding: 0.3em;box-sizing: border-box;text-align: center;}#sk-container-id-1 label.sk-toggleable__label-arrow:before {content: \"▸\";float: left;margin-right: 0.25em;color: #696969;}#sk-container-id-1 label.sk-toggleable__label-arrow:hover:before {color: black;}#sk-container-id-1 div.sk-estimator:hover label.sk-toggleable__label-arrow:before {color: black;}#sk-container-id-1 div.sk-toggleable__content {max-height: 0;max-width: 0;overflow: hidden;text-align: left;background-color: #f0f8ff;}#sk-container-id-1 div.sk-toggleable__content pre {margin: 0.2em;color: black;border-radius: 0.25em;background-color: #f0f8ff;}#sk-container-id-1 input.sk-toggleable__control:checked~div.sk-toggleable__content {max-height: 200px;max-width: 100%;overflow: auto;}#sk-container-id-1 input.sk-toggleable__control:checked~label.sk-toggleable__label-arrow:before {content: \"▾\";}#sk-container-id-1 div.sk-estimator input.sk-toggleable__control:checked~label.sk-toggleable__label {background-color: #d4ebff;}#sk-container-id-1 div.sk-label input.sk-toggleable__control:checked~label.sk-toggleable__label {background-color: #d4ebff;}#sk-container-id-1 input.sk-hidden--visually {border: 0;clip: rect(1px 1px 1px 1px);clip: rect(1px, 1px, 1px, 1px);height: 1px;margin: -1px;overflow: hidden;padding: 0;position: absolute;width: 1px;}#sk-container-id-1 div.sk-estimator {font-family: monospace;background-color: #f0f8ff;border: 1px dotted black;border-radius: 0.25em;box-sizing: border-box;margin-bottom: 0.5em;}#sk-container-id-1 div.sk-estimator:hover {background-color: #d4ebff;}#sk-container-id-1 div.sk-parallel-item::after {content: \"\";width: 100%;border-bottom: 1px solid gray;flex-grow: 1;}#sk-container-id-1 div.sk-label:hover label.sk-toggleable__label {background-color: #d4ebff;}#sk-container-id-1 div.sk-serial::before {content: \"\";position: absolute;border-left: 1px solid gray;box-sizing: border-box;top: 0;bottom: 0;left: 50%;z-index: 0;}#sk-container-id-1 div.sk-serial {display: flex;flex-direction: column;align-items: center;background-color: white;padding-right: 0.2em;padding-left: 0.2em;position: relative;}#sk-container-id-1 div.sk-item {position: relative;z-index: 1;}#sk-container-id-1 div.sk-parallel {display: flex;align-items: stretch;justify-content: center;background-color: white;position: relative;}#sk-container-id-1 div.sk-item::before, #sk-container-id-1 div.sk-parallel-item::before {content: \"\";position: absolute;border-left: 1px solid gray;box-sizing: border-box;top: 0;bottom: 0;left: 50%;z-index: -1;}#sk-container-id-1 div.sk-parallel-item {display: flex;flex-direction: column;z-index: 1;position: relative;background-color: white;}#sk-container-id-1 div.sk-parallel-item:first-child::after {align-self: flex-end;width: 50%;}#sk-container-id-1 div.sk-parallel-item:last-child::after {align-self: flex-start;width: 50%;}#sk-container-id-1 div.sk-parallel-item:only-child::after {width: 0;}#sk-container-id-1 div.sk-dashed-wrapped {border: 1px dashed gray;margin: 0 0.4em 0.5em 0.4em;box-sizing: border-box;padding-bottom: 0.4em;background-color: white;}#sk-container-id-1 div.sk-label label {font-family: monospace;font-weight: bold;display: inline-block;line-height: 1.2em;}#sk-container-id-1 div.sk-label-container {text-align: center;}#sk-container-id-1 div.sk-container {/* jupyter's `normalize.less` sets `[hidden] { display: none; }` but bootstrap.min.css set `[hidden] { display: none !important; }` so we also need the `!important` here to be able to override the default hidden behavior on the sphinx rendered scikit-learn.org. See: https://github.com/scikit-learn/scikit-learn/issues/21755 */display: inline-block !important;position: relative;}#sk-container-id-1 div.sk-text-repr-fallback {display: none;}</style><div id=\"sk-container-id-1\" class=\"sk-top-container\"><div class=\"sk-text-repr-fallback\"><pre>LogisticRegression(random_state=1)</pre><b>In a Jupyter environment, please rerun this cell to show the HTML representation or trust the notebook. <br />On GitHub, the HTML representation is unable to render, please try loading this page with nbviewer.org.</b></div><div class=\"sk-container\" hidden><div class=\"sk-item\"><div class=\"sk-estimator sk-toggleable\"><input class=\"sk-toggleable__control sk-hidden--visually\" id=\"sk-estimator-id-1\" type=\"checkbox\" checked><label for=\"sk-estimator-id-1\" class=\"sk-toggleable__label sk-toggleable__label-arrow\">LogisticRegression</label><div class=\"sk-toggleable__content\"><pre>LogisticRegression(random_state=1)</pre></div></div></div></div></div>"
      ],
      "text/plain": [
       "LogisticRegression(random_state=1)"
      ]
     },
     "execution_count": 11,
     "metadata": {},
     "output_type": "execute_result"
    }
   ],
   "source": [
    "model_LR = LogisticRegression(random_state=1)\n",
    "model_LR.fit(train_input, train_output)"
   ]
  },
  {
   "cell_type": "code",
   "execution_count": 12,
   "metadata": {},
   "outputs": [],
   "source": [
    "prediction_over_test = model_LR.predict(test_input)"
   ]
  },
  {
   "cell_type": "code",
   "execution_count": 13,
   "metadata": {},
   "outputs": [
    {
     "name": "stdout",
     "output_type": "stream",
     "text": [
      "accuracy_score = 0.9991397773954567\n",
      "f1_socre = 0.6620689655172414\n",
      "precision_score = 0.8275862068965517\n",
      "recall_score = 0.5517241379310345\n"
     ]
    }
   ],
   "source": [
    "print(f'accuracy_score = {accuracy_score(test_output, prediction_over_test)}')\n",
    "print(f'f1_socre = {f1_score(test_output, prediction_over_test)}')\n",
    "print(f'precision_score = {precision_score(test_output, prediction_over_test)}')\n",
    "print(f'recall_score = {recall_score(test_output, prediction_over_test)}')"
   ]
  },
  {
   "cell_type": "code",
   "execution_count": 14,
   "metadata": {},
   "outputs": [
    {
     "data": {
      "text/plain": [
       "0.9991397773954567"
      ]
     },
     "execution_count": 14,
     "metadata": {},
     "output_type": "execute_result"
    },
    {
     "data": {
      "image/png": "[encoded data removed]",
      "text/plain": [
       "<Figure size 800x550 with 1 Axes>"
      ]
     },
     "metadata": {},
     "output_type": "display_data"
    }
   ],
   "source": [
    "cm = ConfusionMatrix(model_LR)\n",
    "cm.fit(train_input, train_output)\n",
    "cm.score(test_input, test_output)"
   ]
  },
  {
   "cell_type": "code",
   "execution_count": 16,
   "metadata": {},
   "outputs": [
    {
     "name": "stdout",
     "output_type": "stream",
     "text": [
      "Iteration 1, loss = 0.04290866\n",
      "Iteration 2, loss = 0.00869957\n",
      "Iteration 3, loss = 0.00761672\n",
      "Iteration 4, loss = 0.00629233\n",
      "Iteration 5, loss = 0.00454601\n",
      "Iteration 6, loss = 0.00333434\n",
      "Iteration 7, loss = 0.00298248\n",
      "Iteration 8, loss = 0.00287963\n",
      "Iteration 9, loss = 0.00281005\n",
      "Iteration 10, loss = 0.00276709\n",
      "Iteration 11, loss = 0.00272076\n",
      "Iteration 12, loss = 0.00268055\n",
      "Iteration 13, loss = 0.00267327\n",
      "Iteration 14, loss = 0.00264586\n",
      "Iteration 15, loss = 0.00260722\n",
      "Iteration 16, loss = 0.00259401\n",
      "Iteration 17, loss = 0.00255488\n",
      "Iteration 18, loss = 0.00249681\n",
      "Iteration 19, loss = 0.00248218\n",
      "Iteration 20, loss = 0.00245007\n",
      "Iteration 21, loss = 0.00240087\n",
      "Iteration 22, loss = 0.00238236\n",
      "Iteration 23, loss = 0.00235334\n",
      "Iteration 24, loss = 0.00232586\n",
      "Iteration 25, loss = 0.00230891\n",
      "Iteration 26, loss = 0.00228931\n",
      "Iteration 27, loss = 0.00225645\n",
      "Iteration 28, loss = 0.00225374\n",
      "Iteration 29, loss = 0.00222429\n",
      "Iteration 30, loss = 0.00219482\n",
      "Iteration 31, loss = 0.00218518\n",
      "Iteration 32, loss = 0.00216875\n",
      "Iteration 33, loss = 0.00217382\n",
      "Iteration 34, loss = 0.00213069\n",
      "Iteration 35, loss = 0.00212833\n",
      "Iteration 36, loss = 0.00210576\n",
      "Iteration 37, loss = 0.00209050\n",
      "Iteration 38, loss = 0.00207265\n",
      "Iteration 39, loss = 0.00206885\n",
      "Iteration 40, loss = 0.00204430\n",
      "Iteration 41, loss = 0.00203342\n",
      "Iteration 42, loss = 0.00201977\n",
      "Iteration 43, loss = 0.00200101\n",
      "Iteration 44, loss = 0.00197957\n",
      "Iteration 45, loss = 0.00196143\n",
      "Iteration 46, loss = 0.00195038\n",
      "Iteration 47, loss = 0.00194510\n",
      "Iteration 48, loss = 0.00193675\n",
      "Iteration 49, loss = 0.00193083\n",
      "Iteration 50, loss = 0.00190086\n",
      "Iteration 51, loss = 0.00192024\n",
      "Iteration 52, loss = 0.00188763\n",
      "Iteration 53, loss = 0.00187810\n",
      "Iteration 54, loss = 0.00187338\n",
      "Iteration 55, loss = 0.00185111\n",
      "Iteration 56, loss = 0.00185932\n",
      "Iteration 57, loss = 0.00184063\n",
      "Iteration 58, loss = 0.00180611\n",
      "Iteration 59, loss = 0.00180797\n",
      "Iteration 60, loss = 0.00180147\n",
      "Iteration 61, loss = 0.00180698\n",
      "Iteration 62, loss = 0.00177407\n",
      "Iteration 63, loss = 0.00176730\n",
      "Iteration 64, loss = 0.00173568\n",
      "Iteration 65, loss = 0.00173787\n",
      "Iteration 66, loss = 0.00172253\n",
      "Iteration 67, loss = 0.00173814\n",
      "Iteration 68, loss = 0.00172041\n",
      "Iteration 69, loss = 0.00169194\n",
      "Iteration 70, loss = 0.00169424\n",
      "Iteration 71, loss = 0.00165957\n",
      "Iteration 72, loss = 0.00164056\n",
      "Iteration 73, loss = 0.00163592\n",
      "Iteration 74, loss = 0.00163654\n",
      "Iteration 75, loss = 0.00161601\n",
      "Iteration 76, loss = 0.00160069\n",
      "Iteration 77, loss = 0.00159325\n",
      "Iteration 78, loss = 0.00158587\n",
      "Iteration 79, loss = 0.00157311\n",
      "Iteration 80, loss = 0.00153727\n",
      "Iteration 81, loss = 0.00150499\n",
      "Iteration 82, loss = 0.00151020\n",
      "Iteration 83, loss = 0.00147541\n",
      "Iteration 84, loss = 0.00149410\n",
      "Iteration 85, loss = 0.00147787\n",
      "Iteration 86, loss = 0.00141168\n",
      "Iteration 87, loss = 0.00143004\n",
      "Iteration 88, loss = 0.00141624\n",
      "Iteration 89, loss = 0.00140392\n",
      "Iteration 90, loss = 0.00135650\n",
      "Iteration 91, loss = 0.00135717\n",
      "Iteration 92, loss = 0.00135873\n",
      "Iteration 93, loss = 0.00131519\n",
      "Iteration 94, loss = 0.00131805\n",
      "Iteration 95, loss = 0.00131212\n",
      "Iteration 96, loss = 0.00126275\n",
      "Iteration 97, loss = 0.00127751\n",
      "Iteration 98, loss = 0.00128001\n",
      "Iteration 99, loss = 0.00123902\n",
      "Iteration 100, loss = 0.00123515\n",
      "Iteration 101, loss = 0.00124687\n",
      "Iteration 102, loss = 0.00119946\n",
      "Iteration 103, loss = 0.00119812\n",
      "Iteration 104, loss = 0.00119246\n",
      "Iteration 105, loss = 0.00117406\n",
      "Iteration 106, loss = 0.00116512\n",
      "Iteration 107, loss = 0.00114498\n",
      "Iteration 108, loss = 0.00114348\n",
      "Iteration 109, loss = 0.00112594\n",
      "Iteration 110, loss = 0.00113800\n",
      "Iteration 111, loss = 0.00110916\n",
      "Iteration 112, loss = 0.00107883\n",
      "Iteration 113, loss = 0.00108958\n",
      "Iteration 114, loss = 0.00106781\n",
      "Iteration 115, loss = 0.00105179\n",
      "Iteration 116, loss = 0.00104932\n",
      "Iteration 117, loss = 0.00105422\n",
      "Iteration 118, loss = 0.00103590\n",
      "Iteration 119, loss = 0.00102247\n",
      "Iteration 120, loss = 0.00100789\n",
      "Iteration 121, loss = 0.00102416\n",
      "Iteration 122, loss = 0.00098713\n",
      "Iteration 123, loss = 0.00097592\n",
      "Iteration 124, loss = 0.00098797\n",
      "Iteration 125, loss = 0.00095129\n",
      "Iteration 126, loss = 0.00093349\n",
      "Iteration 127, loss = 0.00093622\n",
      "Iteration 128, loss = 0.00094063\n",
      "Iteration 129, loss = 0.00094126\n",
      "Iteration 130, loss = 0.00095116\n",
      "Iteration 131, loss = 0.00088341\n",
      "Iteration 132, loss = 0.00090974\n",
      "Iteration 133, loss = 0.00089334\n",
      "Iteration 134, loss = 0.00084291\n",
      "Iteration 135, loss = 0.00090688\n",
      "Iteration 136, loss = 0.00084224\n",
      "Iteration 137, loss = 0.00084760\n",
      "Iteration 138, loss = 0.00085219\n",
      "Iteration 139, loss = 0.00085322\n",
      "Iteration 140, loss = 0.00082335\n",
      "Iteration 141, loss = 0.00081770\n",
      "Iteration 142, loss = 0.00079902\n",
      "Iteration 143, loss = 0.00082233\n",
      "Iteration 144, loss = 0.00078573\n",
      "Iteration 145, loss = 0.00075635\n",
      "Iteration 146, loss = 0.00080430\n",
      "Iteration 147, loss = 0.00073109\n",
      "Iteration 148, loss = 0.00077300\n",
      "Iteration 149, loss = 0.00079263\n",
      "Iteration 150, loss = 0.00071664\n",
      "Iteration 151, loss = 0.00073643\n",
      "Iteration 152, loss = 0.00072267\n",
      "Iteration 153, loss = 0.00073729\n",
      "Iteration 154, loss = 0.00070970\n",
      "Iteration 155, loss = 0.00074433\n",
      "Iteration 156, loss = 0.00069104\n",
      "Iteration 157, loss = 0.00072999\n",
      "Iteration 158, loss = 0.00070079\n",
      "Iteration 159, loss = 0.00068358\n",
      "Iteration 160, loss = 0.00068473\n",
      "Iteration 161, loss = 0.00067222\n",
      "Iteration 162, loss = 0.00070262\n",
      "Iteration 163, loss = 0.00070891\n",
      "Iteration 164, loss = 0.00066027\n",
      "Iteration 165, loss = 0.00064939\n",
      "Iteration 166, loss = 0.00066275\n",
      "Iteration 167, loss = 0.00065916\n",
      "Iteration 168, loss = 0.00065918\n",
      "Iteration 169, loss = 0.00064969\n",
      "Iteration 170, loss = 0.00064492\n",
      "Iteration 171, loss = 0.00063369\n",
      "Iteration 172, loss = 0.00062512\n",
      "Iteration 173, loss = 0.00063762\n",
      "Iteration 174, loss = 0.00063941\n",
      "Iteration 175, loss = 0.00062340\n",
      "Iteration 176, loss = 0.00064094\n",
      "Iteration 177, loss = 0.00060957\n",
      "Iteration 178, loss = 0.00061000\n",
      "Iteration 179, loss = 0.00060216\n",
      "Iteration 180, loss = 0.00062168\n",
      "Iteration 181, loss = 0.00064220\n",
      "Iteration 182, loss = 0.00061826\n",
      "Iteration 183, loss = 0.00061122\n",
      "Iteration 184, loss = 0.00059306\n",
      "Iteration 185, loss = 0.00060449\n",
      "Iteration 186, loss = 0.00057175\n",
      "Iteration 187, loss = 0.00060414\n",
      "Iteration 188, loss = 0.00059480\n",
      "Iteration 189, loss = 0.00058776\n",
      "Iteration 190, loss = 0.00057511\n",
      "Iteration 191, loss = 0.00060337\n",
      "Iteration 192, loss = 0.00058925\n",
      "Iteration 193, loss = 0.00058860\n",
      "Iteration 194, loss = 0.00058398\n",
      "Iteration 195, loss = 0.00056890\n",
      "Iteration 196, loss = 0.00062116\n",
      "Iteration 197, loss = 0.00058399\n",
      "Training loss did not improve more than tol=0.000010 for 10 consecutive epochs. Stopping.\n"
     ]
    },
    {
     "data": {
      "text/html": [
       "<style>#sk-container-id-2 {color: black;background-color: white;}#sk-container-id-2 pre{padding: 0;}#sk-container-id-2 div.sk-toggleable {background-color: white;}#sk-container-id-2 label.sk-toggleable__label {cursor: pointer;display: block;width: 100%;margin-bottom: 0;padding: 0.3em;box-sizing: border-box;text-align: center;}#sk-container-id-2 label.sk-toggleable__label-arrow:before {content: \"▸\";float: left;margin-right: 0.25em;color: #696969;}#sk-container-id-2 label.sk-toggleable__label-arrow:hover:before {color: black;}#sk-container-id-2 div.sk-estimator:hover label.sk-toggleable__label-arrow:before {color: black;}#sk-container-id-2 div.sk-toggleable__content {max-height: 0;max-width: 0;overflow: hidden;text-align: left;background-color: #f0f8ff;}#sk-container-id-2 div.sk-toggleable__content pre {margin: 0.2em;color: black;border-radius: 0.25em;background-color: #f0f8ff;}#sk-container-id-2 input.sk-toggleable__control:checked~div.sk-toggleable__content {max-height: 200px;max-width: 100%;overflow: auto;}#sk-container-id-2 input.sk-toggleable__control:checked~label.sk-toggleable__label-arrow:before {content: \"▾\";}#sk-container-id-2 div.sk-estimator input.sk-toggleable__control:checked~label.sk-toggleable__label {background-color: #d4ebff;}#sk-container-id-2 div.sk-label input.sk-toggleable__control:checked~label.sk-toggleable__label {background-color: #d4ebff;}#sk-container-id-2 input.sk-hidden--visually {border: 0;clip: rect(1px 1px 1px 1px);clip: rect(1px, 1px, 1px, 1px);height: 1px;margin: -1px;overflow: hidden;padding: 0;position: absolute;width: 1px;}#sk-container-id-2 div.sk-estimator {font-family: monospace;background-color: #f0f8ff;border: 1px dotted black;border-radius: 0.25em;box-sizing: border-box;margin-bottom: 0.5em;}#sk-container-id-2 div.sk-estimator:hover {background-color: #d4ebff;}#sk-container-id-2 div.sk-parallel-item::after {content: \"\";width: 100%;border-bottom: 1px solid gray;flex-grow: 1;}#sk-container-id-2 div.sk-label:hover label.sk-toggleable__label {background-color: #d4ebff;}#sk-container-id-2 div.sk-serial::before {content: \"\";position: absolute;border-left: 1px solid gray;box-sizing: border-box;top: 0;bottom: 0;left: 50%;z-index: 0;}#sk-container-id-2 div.sk-serial {display: flex;flex-direction: column;align-items: center;background-color: white;padding-right: 0.2em;padding-left: 0.2em;position: relative;}#sk-container-id-2 div.sk-item {position: relative;z-index: 1;}#sk-container-id-2 div.sk-parallel {display: flex;align-items: stretch;justify-content: center;background-color: white;position: relative;}#sk-container-id-2 div.sk-item::before, #sk-container-id-2 div.sk-parallel-item::before {content: \"\";position: absolute;border-left: 1px solid gray;box-sizing: border-box;top: 0;bottom: 0;left: 50%;z-index: -1;}#sk-container-id-2 div.sk-parallel-item {display: flex;flex-direction: column;z-index: 1;position: relative;background-color: white;}#sk-container-id-2 div.sk-parallel-item:first-child::after {align-self: flex-end;width: 50%;}#sk-container-id-2 div.sk-parallel-item:last-child::after {align-self: flex-start;width: 50%;}#sk-container-id-2 div.sk-parallel-item:only-child::after {width: 0;}#sk-container-id-2 div.sk-dashed-wrapped {border: 1px dashed gray;margin: 0 0.4em 0.5em 0.4em;box-sizing: border-box;padding-bottom: 0.4em;background-color: white;}#sk-container-id-2 div.sk-label label {font-family: monospace;font-weight: bold;display: inline-block;line-height: 1.2em;}#sk-container-id-2 div.sk-label-container {text-align: center;}#sk-container-id-2 div.sk-container {/* jupyter's `normalize.less` sets `[hidden] { display: none; }` but bootstrap.min.css set `[hidden] { display: none !important; }` so we also need the `!important` here to be able to override the default hidden behavior on the sphinx rendered scikit-learn.org. See: https://github.com/scikit-learn/scikit-learn/issues/21755 */display: inline-block !important;position: relative;}#sk-container-id-2 div.sk-text-repr-fallback {display: none;}</style><div id=\"sk-container-id-2\" class=\"sk-top-container\"><div class=\"sk-text-repr-fallback\"><pre>MLPClassifier(activation=&#x27;logistic&#x27;, hidden_layer_sizes=(25, 25), max_iter=1500,\n",
       "              tol=1e-05, verbose=True)</pre><b>In a Jupyter environment, please rerun this cell to show the HTML representation or trust the notebook. <br />On GitHub, the HTML representation is unable to render, please try loading this page with nbviewer.org.</b></div><div class=\"sk-container\" hidden><div class=\"sk-item\"><div class=\"sk-estimator sk-toggleable\"><input class=\"sk-toggleable__control sk-hidden--visually\" id=\"sk-estimator-id-2\" type=\"checkbox\" checked><label for=\"sk-estimator-id-2\" class=\"sk-toggleable__label sk-toggleable__label-arrow\">MLPClassifier</label><div class=\"sk-toggleable__content\"><pre>MLPClassifier(activation=&#x27;logistic&#x27;, hidden_layer_sizes=(25, 25), max_iter=1500,\n",
       "              tol=1e-05, verbose=True)</pre></div></div></div></div></div>"
      ],
      "text/plain": [
       "MLPClassifier(activation='logistic', hidden_layer_sizes=(25, 25), max_iter=1500,\n",
       "              tol=1e-05, verbose=True)"
      ]
     },
     "execution_count": 16,
     "metadata": {},
     "output_type": "execute_result"
    }
   ],
   "source": [
    "model_mlp = MLPClassifier(max_iter=1500, tol=0.00001, verbose=True, hidden_layer_sizes=(25,25), solver='adam', activation='logistic', random_state=1)\n",
    "model_mlp.fit(train_input, train_output)"
   ]
  },
  {
   "cell_type": "code",
   "execution_count": 17,
   "metadata": {},
   "outputs": [],
   "source": [
    "prediction_over_test = model_mlp.predict(test_input)"
   ]
  },
  {
   "cell_type": "code",
   "execution_count": 18,
   "metadata": {},
   "outputs": [
    {
     "name": "stdout",
     "output_type": "stream",
     "text": [
      "accuracy_score = 0.9993504441557529\n",
      "f1_socre = 0.7730061349693252\n",
      "precision_score = 0.8289473684210527\n",
      "recall_score = 0.7241379310344828\n"
     ]
    }
   ],
   "source": [
    "print(f'accuracy_score = {accuracy_score(test_output, prediction_over_test)}')\n",
    "print(f'f1_socre = {f1_score(test_output, prediction_over_test)}')\n",
    "print(f'precision_score = {precision_score(test_output, prediction_over_test)}')\n",
    "print(f'recall_score = {recall_score(test_output, prediction_over_test)}')"
   ]
  },
  {
   "cell_type": "code",
   "execution_count": 19,
   "metadata": {},
   "outputs": [
    {
     "data": {
      "text/plain": [
       "0.9993504441557529"
      ]
     },
     "execution_count": 19,
     "metadata": {},
     "output_type": "execute_result"
    },
    {
     "data": {
      "image/png": "[encoded data removed]",
      "text/plain": [
       "<Figure size 800x550 with 1 Axes>"
      ]
     },
     "metadata": {},
     "output_type": "display_data"
    }
   ],
   "source": [
    "cm = ConfusionMatrix(model_mlp)\n",
    "cm.fit(train_input, train_output)\n",
    "cm.score(test_input, test_output)"
   ]
  },
  {
   "cell_type": "code",
   "execution_count": 22,
   "metadata": {},
   "outputs": [],
   "source": [
    "pickle.dump(model_mlp, open(model_path, 'wb')) "
   ]
  },
  {
   "cell_type": "code",
   "execution_count": 26,
   "metadata": {},
   "outputs": [],
   "source": [
    "df_input_producer = pd.DataFrame(test_input, columns=input_columns)\n",
    "df_input_producer.to_csv(\"input_producer.csv\", sep=\";\")"
   ]
  },
  {
   "cell_type": "code",
   "execution_count": 27,
   "metadata": {},
   "outputs": [
    {
     "data": {
      "text/html": [
       "<div>\n",
       "<style scoped>\n",
       "    .dataframe tbody tr th:only-of-type {\n",
       "        vertical-align: middle;\n",
       "    }\n",
       "\n",
       "    .dataframe tbody tr th {\n",
       "        vertical-align: top;\n",
       "    }\n",
       "\n",
       "    .dataframe thead th {\n",
       "        text-align: right;\n",
       "    }\n",
       "</style>\n",
       "<table border=\"1\" class=\"dataframe\">\n",
       "  <thead>\n",
       "    <tr style=\"text-align: right;\">\n",
       "      <th></th>\n",
       "      <th>V1</th>\n",
       "      <th>V2</th>\n",
       "      <th>V3</th>\n",
       "      <th>V4</th>\n",
       "      <th>V5</th>\n",
       "      <th>V6</th>\n",
       "      <th>V7</th>\n",
       "      <th>V8</th>\n",
       "      <th>V9</th>\n",
       "      <th>V10</th>\n",
       "      <th>...</th>\n",
       "      <th>V20</th>\n",
       "      <th>V21</th>\n",
       "      <th>V22</th>\n",
       "      <th>V23</th>\n",
       "      <th>V24</th>\n",
       "      <th>V25</th>\n",
       "      <th>V26</th>\n",
       "      <th>V27</th>\n",
       "      <th>V28</th>\n",
       "      <th>Amount</th>\n",
       "    </tr>\n",
       "  </thead>\n",
       "  <tbody>\n",
       "    <tr>\n",
       "      <th>0</th>\n",
       "      <td>-0.318582</td>\n",
       "      <td>-0.460479</td>\n",
       "      <td>-0.107158</td>\n",
       "      <td>-0.162198</td>\n",
       "      <td>1.479558</td>\n",
       "      <td>-1.521378</td>\n",
       "      <td>0.251546</td>\n",
       "      <td>-0.451298</td>\n",
       "      <td>0.320564</td>\n",
       "      <td>0.063632</td>\n",
       "      <td>...</td>\n",
       "      <td>-0.260489</td>\n",
       "      <td>-0.107992</td>\n",
       "      <td>0.058678</td>\n",
       "      <td>0.583635</td>\n",
       "      <td>0.041931</td>\n",
       "      <td>-4.277719</td>\n",
       "      <td>-0.422213</td>\n",
       "      <td>0.167403</td>\n",
       "      <td>0.740120</td>\n",
       "      <td>-0.341486</td>\n",
       "    </tr>\n",
       "    <tr>\n",
       "      <th>1</th>\n",
       "      <td>-0.422970</td>\n",
       "      <td>0.802057</td>\n",
       "      <td>0.881693</td>\n",
       "      <td>0.015947</td>\n",
       "      <td>-0.197957</td>\n",
       "      <td>-0.493717</td>\n",
       "      <td>0.275565</td>\n",
       "      <td>0.374776</td>\n",
       "      <td>-0.651301</td>\n",
       "      <td>-0.564972</td>\n",
       "      <td>...</td>\n",
       "      <td>-0.014363</td>\n",
       "      <td>-0.181804</td>\n",
       "      <td>-0.513412</td>\n",
       "      <td>0.140290</td>\n",
       "      <td>0.668144</td>\n",
       "      <td>-0.503967</td>\n",
       "      <td>0.162992</td>\n",
       "      <td>0.411195</td>\n",
       "      <td>0.205819</td>\n",
       "      <td>-0.340740</td>\n",
       "    </tr>\n",
       "    <tr>\n",
       "      <th>2</th>\n",
       "      <td>-0.167626</td>\n",
       "      <td>0.680815</td>\n",
       "      <td>0.641328</td>\n",
       "      <td>-0.093085</td>\n",
       "      <td>0.421605</td>\n",
       "      <td>-0.402303</td>\n",
       "      <td>0.593529</td>\n",
       "      <td>-0.056733</td>\n",
       "      <td>-0.430890</td>\n",
       "      <td>-0.497188</td>\n",
       "      <td>...</td>\n",
       "      <td>0.268708</td>\n",
       "      <td>-0.426112</td>\n",
       "      <td>-1.074502</td>\n",
       "      <td>-0.187609</td>\n",
       "      <td>-0.818748</td>\n",
       "      <td>-0.036235</td>\n",
       "      <td>0.248267</td>\n",
       "      <td>0.631343</td>\n",
       "      <td>0.315041</td>\n",
       "      <td>-0.345020</td>\n",
       "    </tr>\n",
       "  </tbody>\n",
       "</table>\n",
       "<p>3 rows × 29 columns</p>\n",
       "</div>"
      ],
      "text/plain": [
       "         V1        V2        V3        V4        V5        V6        V7  \\\n",
       "0 -0.318582 -0.460479 -0.107158 -0.162198  1.479558 -1.521378  0.251546   \n",
       "1 -0.422970  0.802057  0.881693  0.015947 -0.197957 -0.493717  0.275565   \n",
       "2 -0.167626  0.680815  0.641328 -0.093085  0.421605 -0.402303  0.593529   \n",
       "\n",
       "         V8        V9       V10  ...       V20       V21       V22       V23  \\\n",
       "0 -0.451298  0.320564  0.063632  ... -0.260489 -0.107992  0.058678  0.583635   \n",
       "1  0.374776 -0.651301 -0.564972  ... -0.014363 -0.181804 -0.513412  0.140290   \n",
       "2 -0.056733 -0.430890 -0.497188  ...  0.268708 -0.426112 -1.074502 -0.187609   \n",
       "\n",
       "        V24       V25       V26       V27       V28    Amount  \n",
       "0  0.041931 -4.277719 -0.422213  0.167403  0.740120 -0.341486  \n",
       "1  0.668144 -0.503967  0.162992  0.411195  0.205819 -0.340740  \n",
       "2 -0.818748 -0.036235  0.248267  0.631343  0.315041 -0.345020  \n",
       "\n",
       "[3 rows x 29 columns]"
      ]
     },
     "execution_count": 27,
     "metadata": {},
     "output_type": "execute_result"
    }
   ],
   "source": [
    "df_input_producer.head(3)"
   ]
  }
 ],
 "metadata": {
  "kernelspec": {
   "display_name": "data",
   "language": "python",
   "name": "python3"
  },
  "language_info": {
   "codemirror_mode": {
    "name": "ipython",
    "version": 3
   },
   "file_extension": ".py",
   "mimetype": "text/x-python",
   "name": "python",
   "nbconvert_exporter": "python",
   "pygments_lexer": "ipython3",
   "version": "3.9.16"
  },
  "orig_nbformat": 4
 },
 "nbformat": 4,
 "nbformat_minor": 2
}
